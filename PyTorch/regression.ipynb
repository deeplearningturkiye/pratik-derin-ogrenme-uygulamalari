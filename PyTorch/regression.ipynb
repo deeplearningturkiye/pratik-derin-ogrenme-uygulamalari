{
 "cells": [
  {
   "cell_type": "code",
   "execution_count": null,
   "id": "e7a2c75e-d4be-4a8a-b1d5-c1b6abd37738",
   "metadata": {},
   "outputs": [],
   "source": [
    "#!/usr/bin/env python\n",
    "\n",
    "\"\"\"\n",
    "Deep Learning Türkiye topluluğu tarafından hazırlanmıştır.\n",
    "\"\"\"\n",
    "\n",
    "from __future__ import print_function\n",
    "from itertools import count\n",
    "\n",
    "import torch\n",
    "import torch.nn.functional as F"
   ]
  },
  {
   "cell_type": "code",
   "execution_count": null,
   "id": "bfb9b39f-2fd9-41f7-a1fe-ecd34025a7ea",
   "metadata": {},
   "outputs": [],
   "source": [
    "# Polinom Özellik Dönüşümleri\n",
    "POLY_DEGREE = 4\n",
    "W_target = torch.randn(POLY_DEGREE, 1) * 5\n",
    "b_target = torch.randn(1) * 5"
   ]
  },
  {
   "cell_type": "code",
   "execution_count": null,
   "id": "98be7e30-66e0-49f2-b349-b9c63f48f89a",
   "metadata": {},
   "outputs": [],
   "source": [
    "def make_features(x):\n",
    "    \"\"\"Özellikler oluşturur. Yani [x, x^2, x^3, x^4] kolonları olan bir matris.\"\"\"\n",
    "    x = x.unsqueeze(1)\n",
    "    return torch.cat([x ** i for i in range(1, POLY_DEGREE+1)], 1)"
   ]
  },
  {
   "cell_type": "code",
   "execution_count": null,
   "id": "e4c233f7-e214-4915-b809-8630a66e2c8e",
   "metadata": {},
   "outputs": [],
   "source": [
    "def f(x):\n",
    "    \"\"\"Yaklaşık Fonksiyon.\"\"\"\n",
    "    return x.mm(W_target) + b_target.item()"
   ]
  },
  {
   "cell_type": "code",
   "execution_count": null,
   "id": "e155b1e0-93ae-462d-8511-7a2b77b11be4",
   "metadata": {},
   "outputs": [],
   "source": [
    "def poly_desc(W, b):\n",
    "    \"\"\"Polinomun string olarak açıklamasını oluşturur.\"\"\"\n",
    "    result = 'y = '\n",
    "    for i, w in enumerate(W):\n",
    "        result += '{:+.2f} x^{} '.format(w, i + 1)\n",
    "    result += '{:+.2f}'.format(b[0])\n",
    "    return result"
   ]
  },
  {
   "cell_type": "code",
   "execution_count": null,
   "id": "3c04c1e9-3ee0-4e2f-85f3-30930ff80090",
   "metadata": {},
   "outputs": [],
   "source": [
    "def get_batch(batch_size=32):\n",
    "    \"\"\"Batch oluşturur. Yani bir (x, f(x)) çifti.\"\"\"\n",
    "    random = torch.randn(batch_size)\n",
    "    x = make_features(random)\n",
    "    y = f(x)\n",
    "    return x, y"
   ]
  },
  {
   "cell_type": "code",
   "execution_count": null,
   "id": "6bb2f81a-9f98-40ff-8b67-02fe38d32c0a",
   "metadata": {},
   "outputs": [],
   "source": [
    "# Modelin Tanımlanması.\n",
    "fc = torch.nn.Linear(W_target.size(0), 1)\n",
    "\n",
    "for batch_idx in count(1):\n",
    "    # Veriyi Al.\n",
    "    batch_x, batch_y = get_batch()\n",
    "\n",
    "    # Gradyanları Sıfırla.\n",
    "    fc.zero_grad()\n",
    "\n",
    "    # Doğrudan Geç.\n",
    "    output = F.smooth_l1_loss(fc(batch_x), batch_y)\n",
    "    loss = output.item()\n",
    "\n",
    "    # Geriye Dön.\n",
    "    output.backward()\n",
    "\n",
    "    # Gradyanları Uygula.\n",
    "    for param in fc.parameters():\n",
    "        param.data.add_(-0.1 * param.grad)\n",
    "\n",
    "    # Durma Kriterlerini Belirle.\n",
    "    if loss < 1e-3:\n",
    "        break"
   ]
  },
  {
   "cell_type": "code",
   "execution_count": null,
   "id": "857f454c-6340-4860-a36f-6a434c11739a",
   "metadata": {},
   "outputs": [],
   "source": [
    "# Kayıp\n",
    "print('Loss: {:.6f} after {} batches'.format(loss, batch_idx))\n",
    "\n",
    "# Öğrenilmiş Fonksiyon\n",
    "print('==> Learned function:\\t' + poly_desc(fc.weight.view(-1), fc.bias))\n",
    "\n",
    "# Asıl Fonksiyon\n",
    "print('==> Actual function:\\t' + poly_desc(W_target.view(-1), b_target))"
   ]
  }
 ],
 "metadata": {
  "kernelspec": {
   "display_name": "Python [conda env:datascience] *",
   "language": "python",
   "name": "conda-env-datascience-py"
  },
  "language_info": {
   "codemirror_mode": {
    "name": "ipython",
    "version": 3
   },
   "file_extension": ".py",
   "mimetype": "text/x-python",
   "name": "python",
   "nbconvert_exporter": "python",
   "pygments_lexer": "ipython3",
   "version": "3.8.13"
  }
 },
 "nbformat": 4,
 "nbformat_minor": 5
}
